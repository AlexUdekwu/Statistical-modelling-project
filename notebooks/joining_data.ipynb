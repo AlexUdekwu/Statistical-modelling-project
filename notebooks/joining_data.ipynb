{
 "cells": [
  {
   "cell_type": "markdown",
   "metadata": {},
   "source": [
    "Join the data from Part 1 with the data from Part 2 to create a new dataframe."
   ]
  },
  {
   "cell_type": "code",
   "execution_count": 4,
   "metadata": {},
   "outputs": [],
   "source": [
    "import pandas as pd\n",
    "citybikestable=pd.read_csv(\"citybikestable.csv\")\n"
   ]
  },
  {
   "cell_type": "code",
   "execution_count": 5,
   "metadata": {},
   "outputs": [
    {
     "data": {
      "text/html": [
       "<div>\n",
       "<style scoped>\n",
       "    .dataframe tbody tr th:only-of-type {\n",
       "        vertical-align: middle;\n",
       "    }\n",
       "\n",
       "    .dataframe tbody tr th {\n",
       "        vertical-align: top;\n",
       "    }\n",
       "\n",
       "    .dataframe thead th {\n",
       "        text-align: right;\n",
       "    }\n",
       "</style>\n",
       "<table border=\"1\" class=\"dataframe\">\n",
       "  <thead>\n",
       "    <tr style=\"text-align: right;\">\n",
       "      <th></th>\n",
       "      <th>latitude</th>\n",
       "      <th>longitude</th>\n",
       "      <th>bikes</th>\n",
       "    </tr>\n",
       "  </thead>\n",
       "  <tbody>\n",
       "    <tr>\n",
       "      <th>0</th>\n",
       "      <td>49.262487</td>\n",
       "      <td>-123.114397</td>\n",
       "      <td>21</td>\n",
       "    </tr>\n",
       "    <tr>\n",
       "      <th>1</th>\n",
       "      <td>49.274566</td>\n",
       "      <td>-123.121817</td>\n",
       "      <td>4</td>\n",
       "    </tr>\n",
       "    <tr>\n",
       "      <th>2</th>\n",
       "      <td>49.279764</td>\n",
       "      <td>-123.110154</td>\n",
       "      <td>5</td>\n",
       "    </tr>\n",
       "    <tr>\n",
       "      <th>3</th>\n",
       "      <td>49.260599</td>\n",
       "      <td>-123.113504</td>\n",
       "      <td>3</td>\n",
       "    </tr>\n",
       "    <tr>\n",
       "      <th>4</th>\n",
       "      <td>49.264215</td>\n",
       "      <td>-123.117772</td>\n",
       "      <td>15</td>\n",
       "    </tr>\n",
       "    <tr>\n",
       "      <th>...</th>\n",
       "      <td>...</td>\n",
       "      <td>...</td>\n",
       "      <td>...</td>\n",
       "    </tr>\n",
       "    <tr>\n",
       "      <th>239</th>\n",
       "      <td>49.247204</td>\n",
       "      <td>-123.101549</td>\n",
       "      <td>1</td>\n",
       "    </tr>\n",
       "    <tr>\n",
       "      <th>240</th>\n",
       "      <td>49.285670</td>\n",
       "      <td>-123.112543</td>\n",
       "      <td>6</td>\n",
       "    </tr>\n",
       "    <tr>\n",
       "      <th>241</th>\n",
       "      <td>49.250940</td>\n",
       "      <td>-123.101306</td>\n",
       "      <td>1</td>\n",
       "    </tr>\n",
       "    <tr>\n",
       "      <th>242</th>\n",
       "      <td>49.280977</td>\n",
       "      <td>-123.035969</td>\n",
       "      <td>4</td>\n",
       "    </tr>\n",
       "    <tr>\n",
       "      <th>243</th>\n",
       "      <td>49.270783</td>\n",
       "      <td>-123.141564</td>\n",
       "      <td>8</td>\n",
       "    </tr>\n",
       "  </tbody>\n",
       "</table>\n",
       "<p>244 rows × 3 columns</p>\n",
       "</div>"
      ],
      "text/plain": [
       "      latitude   longitude  bikes\n",
       "0    49.262487 -123.114397     21\n",
       "1    49.274566 -123.121817      4\n",
       "2    49.279764 -123.110154      5\n",
       "3    49.260599 -123.113504      3\n",
       "4    49.264215 -123.117772     15\n",
       "..         ...         ...    ...\n",
       "239  49.247204 -123.101549      1\n",
       "240  49.285670 -123.112543      6\n",
       "241  49.250940 -123.101306      1\n",
       "242  49.280977 -123.035969      4\n",
       "243  49.270783 -123.141564      8\n",
       "\n",
       "[244 rows x 3 columns]"
      ]
     },
     "execution_count": 5,
     "metadata": {},
     "output_type": "execute_result"
    }
   ],
   "source": [
    "citybikestable"
   ]
  },
  {
   "cell_type": "code",
   "execution_count": 6,
   "metadata": {},
   "outputs": [],
   "source": [
    "fs_table=pd.read_csv(\"fs_table.csv\")"
   ]
  },
  {
   "cell_type": "code",
   "execution_count": 7,
   "metadata": {},
   "outputs": [
    {
     "data": {
      "text/html": [
       "<div>\n",
       "<style scoped>\n",
       "    .dataframe tbody tr th:only-of-type {\n",
       "        vertical-align: middle;\n",
       "    }\n",
       "\n",
       "    .dataframe tbody tr th {\n",
       "        vertical-align: top;\n",
       "    }\n",
       "\n",
       "    .dataframe thead th {\n",
       "        text-align: right;\n",
       "    }\n",
       "</style>\n",
       "<table border=\"1\" class=\"dataframe\">\n",
       "  <thead>\n",
       "    <tr style=\"text-align: right;\">\n",
       "      <th></th>\n",
       "      <th>name</th>\n",
       "      <th>distance</th>\n",
       "      <th>geocodes.drop_off.latitude</th>\n",
       "      <th>geocodes.drop_off.longitude</th>\n",
       "      <th>location</th>\n",
       "      <th>location.address</th>\n",
       "    </tr>\n",
       "  </thead>\n",
       "  <tbody>\n",
       "    <tr>\n",
       "      <th>0</th>\n",
       "      <td>Rogue Kitchen &amp; Wetbar</td>\n",
       "      <td>250</td>\n",
       "      <td>49.263262</td>\n",
       "      <td>-123.117650</td>\n",
       "      <td>0</td>\n",
       "      <td>602W Broadway W</td>\n",
       "    </tr>\n",
       "    <tr>\n",
       "      <th>1</th>\n",
       "      <td>33 Acres Brewing Co</td>\n",
       "      <td>674</td>\n",
       "      <td>NaN</td>\n",
       "      <td>NaN</td>\n",
       "      <td>0</td>\n",
       "      <td>15 8th Ave W</td>\n",
       "    </tr>\n",
       "    <tr>\n",
       "      <th>2</th>\n",
       "      <td>The Cascade Room</td>\n",
       "      <td>984</td>\n",
       "      <td>NaN</td>\n",
       "      <td>NaN</td>\n",
       "      <td>0</td>\n",
       "      <td>2616 Main St</td>\n",
       "    </tr>\n",
       "    <tr>\n",
       "      <th>3</th>\n",
       "      <td>Biercraft Bistro</td>\n",
       "      <td>744</td>\n",
       "      <td>NaN</td>\n",
       "      <td>NaN</td>\n",
       "      <td>0</td>\n",
       "      <td>3305 Cambie St</td>\n",
       "    </tr>\n",
       "    <tr>\n",
       "      <th>4</th>\n",
       "      <td>Faculty Brewing Co</td>\n",
       "      <td>994</td>\n",
       "      <td>49.268561</td>\n",
       "      <td>-123.104665</td>\n",
       "      <td>0</td>\n",
       "      <td>1830 Ontario St</td>\n",
       "    </tr>\n",
       "    <tr>\n",
       "      <th>5</th>\n",
       "      <td>Fox Cabaret</td>\n",
       "      <td>965</td>\n",
       "      <td>NaN</td>\n",
       "      <td>NaN</td>\n",
       "      <td>0</td>\n",
       "      <td>2321 Main St</td>\n",
       "    </tr>\n",
       "    <tr>\n",
       "      <th>6</th>\n",
       "      <td>The Wicklow Pub</td>\n",
       "      <td>760</td>\n",
       "      <td>NaN</td>\n",
       "      <td>NaN</td>\n",
       "      <td>0</td>\n",
       "      <td>610 Stamp's Landng</td>\n",
       "    </tr>\n",
       "    <tr>\n",
       "      <th>7</th>\n",
       "      <td>Tocador</td>\n",
       "      <td>996</td>\n",
       "      <td>NaN</td>\n",
       "      <td>NaN</td>\n",
       "      <td>0</td>\n",
       "      <td>2610 Main St</td>\n",
       "    </tr>\n",
       "    <tr>\n",
       "      <th>8</th>\n",
       "      <td>Vancouver Hackspace</td>\n",
       "      <td>820</td>\n",
       "      <td>NaN</td>\n",
       "      <td>NaN</td>\n",
       "      <td>0</td>\n",
       "      <td>1715 Cook St</td>\n",
       "    </tr>\n",
       "    <tr>\n",
       "      <th>9</th>\n",
       "      <td>Mahony &amp; Sons</td>\n",
       "      <td>811</td>\n",
       "      <td>NaN</td>\n",
       "      <td>NaN</td>\n",
       "      <td>0</td>\n",
       "      <td>610 Stamp's Landng</td>\n",
       "    </tr>\n",
       "  </tbody>\n",
       "</table>\n",
       "</div>"
      ],
      "text/plain": [
       "                     name  distance  geocodes.drop_off.latitude  \\\n",
       "0  Rogue Kitchen & Wetbar       250                   49.263262   \n",
       "1     33 Acres Brewing Co       674                         NaN   \n",
       "2        The Cascade Room       984                         NaN   \n",
       "3        Biercraft Bistro       744                         NaN   \n",
       "4      Faculty Brewing Co       994                   49.268561   \n",
       "5             Fox Cabaret       965                         NaN   \n",
       "6         The Wicklow Pub       760                         NaN   \n",
       "7                 Tocador       996                         NaN   \n",
       "8     Vancouver Hackspace       820                         NaN   \n",
       "9           Mahony & Sons       811                         NaN   \n",
       "\n",
       "   geocodes.drop_off.longitude  location    location.address  \n",
       "0                  -123.117650         0     602W Broadway W  \n",
       "1                          NaN         0        15 8th Ave W  \n",
       "2                          NaN         0        2616 Main St  \n",
       "3                          NaN         0      3305 Cambie St  \n",
       "4                  -123.104665         0     1830 Ontario St  \n",
       "5                          NaN         0        2321 Main St  \n",
       "6                          NaN         0  610 Stamp's Landng  \n",
       "7                          NaN         0        2610 Main St  \n",
       "8                          NaN         0        1715 Cook St  \n",
       "9                          NaN         0  610 Stamp's Landng  "
      ]
     },
     "execution_count": 7,
     "metadata": {},
     "output_type": "execute_result"
    }
   ],
   "source": [
    "fs_table"
   ]
  },
  {
   "cell_type": "code",
   "execution_count": 8,
   "metadata": {},
   "outputs": [
    {
     "data": {
      "text/html": [
       "<div>\n",
       "<style scoped>\n",
       "    .dataframe tbody tr th:only-of-type {\n",
       "        vertical-align: middle;\n",
       "    }\n",
       "\n",
       "    .dataframe tbody tr th {\n",
       "        vertical-align: top;\n",
       "    }\n",
       "\n",
       "    .dataframe thead th {\n",
       "        text-align: right;\n",
       "    }\n",
       "</style>\n",
       "<table border=\"1\" class=\"dataframe\">\n",
       "  <thead>\n",
       "    <tr style=\"text-align: right;\">\n",
       "      <th></th>\n",
       "      <th>name</th>\n",
       "      <th>distance</th>\n",
       "      <th>latitude</th>\n",
       "      <th>longitude</th>\n",
       "      <th>location</th>\n",
       "      <th>location.address</th>\n",
       "    </tr>\n",
       "  </thead>\n",
       "  <tbody>\n",
       "    <tr>\n",
       "      <th>0</th>\n",
       "      <td>Rogue Kitchen &amp; Wetbar</td>\n",
       "      <td>250</td>\n",
       "      <td>49.263262</td>\n",
       "      <td>-123.117650</td>\n",
       "      <td>0</td>\n",
       "      <td>602W Broadway W</td>\n",
       "    </tr>\n",
       "    <tr>\n",
       "      <th>1</th>\n",
       "      <td>33 Acres Brewing Co</td>\n",
       "      <td>674</td>\n",
       "      <td>NaN</td>\n",
       "      <td>NaN</td>\n",
       "      <td>0</td>\n",
       "      <td>15 8th Ave W</td>\n",
       "    </tr>\n",
       "    <tr>\n",
       "      <th>2</th>\n",
       "      <td>The Cascade Room</td>\n",
       "      <td>984</td>\n",
       "      <td>NaN</td>\n",
       "      <td>NaN</td>\n",
       "      <td>0</td>\n",
       "      <td>2616 Main St</td>\n",
       "    </tr>\n",
       "    <tr>\n",
       "      <th>3</th>\n",
       "      <td>Biercraft Bistro</td>\n",
       "      <td>744</td>\n",
       "      <td>NaN</td>\n",
       "      <td>NaN</td>\n",
       "      <td>0</td>\n",
       "      <td>3305 Cambie St</td>\n",
       "    </tr>\n",
       "    <tr>\n",
       "      <th>4</th>\n",
       "      <td>Faculty Brewing Co</td>\n",
       "      <td>994</td>\n",
       "      <td>49.268561</td>\n",
       "      <td>-123.104665</td>\n",
       "      <td>0</td>\n",
       "      <td>1830 Ontario St</td>\n",
       "    </tr>\n",
       "    <tr>\n",
       "      <th>5</th>\n",
       "      <td>Fox Cabaret</td>\n",
       "      <td>965</td>\n",
       "      <td>NaN</td>\n",
       "      <td>NaN</td>\n",
       "      <td>0</td>\n",
       "      <td>2321 Main St</td>\n",
       "    </tr>\n",
       "    <tr>\n",
       "      <th>6</th>\n",
       "      <td>The Wicklow Pub</td>\n",
       "      <td>760</td>\n",
       "      <td>NaN</td>\n",
       "      <td>NaN</td>\n",
       "      <td>0</td>\n",
       "      <td>610 Stamp's Landng</td>\n",
       "    </tr>\n",
       "    <tr>\n",
       "      <th>7</th>\n",
       "      <td>Tocador</td>\n",
       "      <td>996</td>\n",
       "      <td>NaN</td>\n",
       "      <td>NaN</td>\n",
       "      <td>0</td>\n",
       "      <td>2610 Main St</td>\n",
       "    </tr>\n",
       "    <tr>\n",
       "      <th>8</th>\n",
       "      <td>Vancouver Hackspace</td>\n",
       "      <td>820</td>\n",
       "      <td>NaN</td>\n",
       "      <td>NaN</td>\n",
       "      <td>0</td>\n",
       "      <td>1715 Cook St</td>\n",
       "    </tr>\n",
       "    <tr>\n",
       "      <th>9</th>\n",
       "      <td>Mahony &amp; Sons</td>\n",
       "      <td>811</td>\n",
       "      <td>NaN</td>\n",
       "      <td>NaN</td>\n",
       "      <td>0</td>\n",
       "      <td>610 Stamp's Landng</td>\n",
       "    </tr>\n",
       "  </tbody>\n",
       "</table>\n",
       "</div>"
      ],
      "text/plain": [
       "                     name  distance   latitude   longitude  location  \\\n",
       "0  Rogue Kitchen & Wetbar       250  49.263262 -123.117650         0   \n",
       "1     33 Acres Brewing Co       674        NaN         NaN         0   \n",
       "2        The Cascade Room       984        NaN         NaN         0   \n",
       "3        Biercraft Bistro       744        NaN         NaN         0   \n",
       "4      Faculty Brewing Co       994  49.268561 -123.104665         0   \n",
       "5             Fox Cabaret       965        NaN         NaN         0   \n",
       "6         The Wicklow Pub       760        NaN         NaN         0   \n",
       "7                 Tocador       996        NaN         NaN         0   \n",
       "8     Vancouver Hackspace       820        NaN         NaN         0   \n",
       "9           Mahony & Sons       811        NaN         NaN         0   \n",
       "\n",
       "     location.address  \n",
       "0     602W Broadway W  \n",
       "1        15 8th Ave W  \n",
       "2        2616 Main St  \n",
       "3      3305 Cambie St  \n",
       "4     1830 Ontario St  \n",
       "5        2321 Main St  \n",
       "6  610 Stamp's Landng  \n",
       "7        2610 Main St  \n",
       "8        1715 Cook St  \n",
       "9  610 Stamp's Landng  "
      ]
     },
     "execution_count": 8,
     "metadata": {},
     "output_type": "execute_result"
    }
   ],
   "source": [
    "## to rename columns for easy correlation.\n",
    "fs_table.rename(columns = {'geocodes.drop_off.latitude':'latitude','geocodes.drop_off.longitude':'longitude'}, inplace = True)\n",
    "fs_table"
   ]
  },
  {
   "cell_type": "code",
   "execution_count": 10,
   "metadata": {},
   "outputs": [
    {
     "data": {
      "text/html": [
       "<div>\n",
       "<style scoped>\n",
       "    .dataframe tbody tr th:only-of-type {\n",
       "        vertical-align: middle;\n",
       "    }\n",
       "\n",
       "    .dataframe tbody tr th {\n",
       "        vertical-align: top;\n",
       "    }\n",
       "\n",
       "    .dataframe thead th {\n",
       "        text-align: right;\n",
       "    }\n",
       "</style>\n",
       "<table border=\"1\" class=\"dataframe\">\n",
       "  <thead>\n",
       "    <tr style=\"text-align: right;\">\n",
       "      <th></th>\n",
       "      <th>name</th>\n",
       "      <th>rating</th>\n",
       "      <th>latitude</th>\n",
       "      <th>longitude</th>\n",
       "    </tr>\n",
       "  </thead>\n",
       "  <tbody>\n",
       "    <tr>\n",
       "      <th>0</th>\n",
       "      <td>Bike Repair Centre</td>\n",
       "      <td>5.0</td>\n",
       "      <td>49.263173</td>\n",
       "      <td>-123.105946</td>\n",
       "    </tr>\n",
       "    <tr>\n",
       "      <th>1</th>\n",
       "      <td>Our Community Bikes</td>\n",
       "      <td>4.0</td>\n",
       "      <td>49.263217</td>\n",
       "      <td>-123.101212</td>\n",
       "    </tr>\n",
       "    <tr>\n",
       "      <th>2</th>\n",
       "      <td>Mobi by Shaw Go</td>\n",
       "      <td>1.5</td>\n",
       "      <td>49.260380</td>\n",
       "      <td>-123.113358</td>\n",
       "    </tr>\n",
       "  </tbody>\n",
       "</table>\n",
       "</div>"
      ],
      "text/plain": [
       "                  name  rating   latitude   longitude\n",
       "0   Bike Repair Centre     5.0  49.263173 -123.105946\n",
       "1  Our Community Bikes     4.0  49.263217 -123.101212\n",
       "2      Mobi by Shaw Go     1.5  49.260380 -123.113358"
      ]
     },
     "execution_count": 10,
     "metadata": {},
     "output_type": "execute_result"
    }
   ],
   "source": [
    "yelps_table=pd.read_csv(\"yelps_table.csv\")\n",
    "yelps_table"
   ]
  },
  {
   "cell_type": "code",
   "execution_count": 11,
   "metadata": {},
   "outputs": [
    {
     "data": {
      "text/html": [
       "<div>\n",
       "<style scoped>\n",
       "    .dataframe tbody tr th:only-of-type {\n",
       "        vertical-align: middle;\n",
       "    }\n",
       "\n",
       "    .dataframe tbody tr th {\n",
       "        vertical-align: top;\n",
       "    }\n",
       "\n",
       "    .dataframe thead th {\n",
       "        text-align: right;\n",
       "    }\n",
       "</style>\n",
       "<table border=\"1\" class=\"dataframe\">\n",
       "  <thead>\n",
       "    <tr style=\"text-align: right;\">\n",
       "      <th></th>\n",
       "      <th>latitude</th>\n",
       "      <th>longitude</th>\n",
       "      <th>bikes</th>\n",
       "      <th>name</th>\n",
       "      <th>distance</th>\n",
       "      <th>location</th>\n",
       "      <th>location.address</th>\n",
       "      <th>rating</th>\n",
       "    </tr>\n",
       "  </thead>\n",
       "  <tbody>\n",
       "    <tr>\n",
       "      <th>0</th>\n",
       "      <td>49.262487</td>\n",
       "      <td>-123.114397</td>\n",
       "      <td>21.0</td>\n",
       "      <td>NaN</td>\n",
       "      <td>NaN</td>\n",
       "      <td>NaN</td>\n",
       "      <td>NaN</td>\n",
       "      <td>NaN</td>\n",
       "    </tr>\n",
       "    <tr>\n",
       "      <th>1</th>\n",
       "      <td>49.274566</td>\n",
       "      <td>-123.121817</td>\n",
       "      <td>4.0</td>\n",
       "      <td>NaN</td>\n",
       "      <td>NaN</td>\n",
       "      <td>NaN</td>\n",
       "      <td>NaN</td>\n",
       "      <td>NaN</td>\n",
       "    </tr>\n",
       "    <tr>\n",
       "      <th>2</th>\n",
       "      <td>49.279764</td>\n",
       "      <td>-123.110154</td>\n",
       "      <td>5.0</td>\n",
       "      <td>NaN</td>\n",
       "      <td>NaN</td>\n",
       "      <td>NaN</td>\n",
       "      <td>NaN</td>\n",
       "      <td>NaN</td>\n",
       "    </tr>\n",
       "    <tr>\n",
       "      <th>3</th>\n",
       "      <td>49.260599</td>\n",
       "      <td>-123.113504</td>\n",
       "      <td>3.0</td>\n",
       "      <td>NaN</td>\n",
       "      <td>NaN</td>\n",
       "      <td>NaN</td>\n",
       "      <td>NaN</td>\n",
       "      <td>NaN</td>\n",
       "    </tr>\n",
       "    <tr>\n",
       "      <th>4</th>\n",
       "      <td>49.264215</td>\n",
       "      <td>-123.117772</td>\n",
       "      <td>15.0</td>\n",
       "      <td>NaN</td>\n",
       "      <td>NaN</td>\n",
       "      <td>NaN</td>\n",
       "      <td>NaN</td>\n",
       "      <td>NaN</td>\n",
       "    </tr>\n",
       "    <tr>\n",
       "      <th>...</th>\n",
       "      <td>...</td>\n",
       "      <td>...</td>\n",
       "      <td>...</td>\n",
       "      <td>...</td>\n",
       "      <td>...</td>\n",
       "      <td>...</td>\n",
       "      <td>...</td>\n",
       "      <td>...</td>\n",
       "    </tr>\n",
       "    <tr>\n",
       "      <th>252</th>\n",
       "      <td>NaN</td>\n",
       "      <td>NaN</td>\n",
       "      <td>NaN</td>\n",
       "      <td>Vancouver Hackspace</td>\n",
       "      <td>820.0</td>\n",
       "      <td>0.0</td>\n",
       "      <td>1715 Cook St</td>\n",
       "      <td>NaN</td>\n",
       "    </tr>\n",
       "    <tr>\n",
       "      <th>253</th>\n",
       "      <td>NaN</td>\n",
       "      <td>NaN</td>\n",
       "      <td>NaN</td>\n",
       "      <td>Mahony &amp; Sons</td>\n",
       "      <td>811.0</td>\n",
       "      <td>0.0</td>\n",
       "      <td>610 Stamp's Landng</td>\n",
       "      <td>NaN</td>\n",
       "    </tr>\n",
       "    <tr>\n",
       "      <th>254</th>\n",
       "      <td>49.263173</td>\n",
       "      <td>-123.105946</td>\n",
       "      <td>NaN</td>\n",
       "      <td>Bike Repair Centre</td>\n",
       "      <td>NaN</td>\n",
       "      <td>NaN</td>\n",
       "      <td>NaN</td>\n",
       "      <td>5.0</td>\n",
       "    </tr>\n",
       "    <tr>\n",
       "      <th>255</th>\n",
       "      <td>49.263217</td>\n",
       "      <td>-123.101212</td>\n",
       "      <td>NaN</td>\n",
       "      <td>Our Community Bikes</td>\n",
       "      <td>NaN</td>\n",
       "      <td>NaN</td>\n",
       "      <td>NaN</td>\n",
       "      <td>4.0</td>\n",
       "    </tr>\n",
       "    <tr>\n",
       "      <th>256</th>\n",
       "      <td>49.260380</td>\n",
       "      <td>-123.113358</td>\n",
       "      <td>NaN</td>\n",
       "      <td>Mobi by Shaw Go</td>\n",
       "      <td>NaN</td>\n",
       "      <td>NaN</td>\n",
       "      <td>NaN</td>\n",
       "      <td>1.5</td>\n",
       "    </tr>\n",
       "  </tbody>\n",
       "</table>\n",
       "<p>257 rows × 8 columns</p>\n",
       "</div>"
      ],
      "text/plain": [
       "      latitude   longitude  bikes                 name  distance  location  \\\n",
       "0    49.262487 -123.114397   21.0                  NaN       NaN       NaN   \n",
       "1    49.274566 -123.121817    4.0                  NaN       NaN       NaN   \n",
       "2    49.279764 -123.110154    5.0                  NaN       NaN       NaN   \n",
       "3    49.260599 -123.113504    3.0                  NaN       NaN       NaN   \n",
       "4    49.264215 -123.117772   15.0                  NaN       NaN       NaN   \n",
       "..         ...         ...    ...                  ...       ...       ...   \n",
       "252        NaN         NaN    NaN  Vancouver Hackspace     820.0       0.0   \n",
       "253        NaN         NaN    NaN        Mahony & Sons     811.0       0.0   \n",
       "254  49.263173 -123.105946    NaN   Bike Repair Centre       NaN       NaN   \n",
       "255  49.263217 -123.101212    NaN  Our Community Bikes       NaN       NaN   \n",
       "256  49.260380 -123.113358    NaN      Mobi by Shaw Go       NaN       NaN   \n",
       "\n",
       "       location.address  rating  \n",
       "0                   NaN     NaN  \n",
       "1                   NaN     NaN  \n",
       "2                   NaN     NaN  \n",
       "3                   NaN     NaN  \n",
       "4                   NaN     NaN  \n",
       "..                  ...     ...  \n",
       "252        1715 Cook St     NaN  \n",
       "253  610 Stamp's Landng     NaN  \n",
       "254                 NaN     5.0  \n",
       "255                 NaN     4.0  \n",
       "256                 NaN     1.5  \n",
       "\n",
       "[257 rows x 8 columns]"
      ]
     },
     "execution_count": 11,
     "metadata": {},
     "output_type": "execute_result"
    }
   ],
   "source": [
    "## combine all tables\n",
    "df_combine = pd.concat([citybikestable, fs_table, yelps_table], ignore_index=True, sort = False)\n",
    "df_combine"
   ]
  },
  {
   "cell_type": "markdown",
   "metadata": {},
   "source": [
    "Provide a visualization that you used as part of your EDA process. Explain the initial pattern or relationship you discoved through this visualization. "
   ]
  },
  {
   "cell_type": "code",
   "execution_count": 12,
   "metadata": {},
   "outputs": [
    {
     "data": {
      "text/plain": [
       "(257, 8)"
      ]
     },
     "execution_count": 12,
     "metadata": {},
     "output_type": "execute_result"
    }
   ],
   "source": [
    "df_combine.shape # to identify the number of columns and rows"
   ]
  },
  {
   "cell_type": "code",
   "execution_count": 13,
   "metadata": {},
   "outputs": [
    {
     "data": {
      "text/html": [
       "<div>\n",
       "<style scoped>\n",
       "    .dataframe tbody tr th:only-of-type {\n",
       "        vertical-align: middle;\n",
       "    }\n",
       "\n",
       "    .dataframe tbody tr th {\n",
       "        vertical-align: top;\n",
       "    }\n",
       "\n",
       "    .dataframe thead th {\n",
       "        text-align: right;\n",
       "    }\n",
       "</style>\n",
       "<table border=\"1\" class=\"dataframe\">\n",
       "  <thead>\n",
       "    <tr style=\"text-align: right;\">\n",
       "      <th></th>\n",
       "      <th>latitude</th>\n",
       "      <th>longitude</th>\n",
       "      <th>bikes</th>\n",
       "      <th>name</th>\n",
       "      <th>distance</th>\n",
       "      <th>location</th>\n",
       "      <th>location.address</th>\n",
       "      <th>rating</th>\n",
       "    </tr>\n",
       "  </thead>\n",
       "  <tbody>\n",
       "    <tr>\n",
       "      <th>0</th>\n",
       "      <td>49.262487</td>\n",
       "      <td>-123.114397</td>\n",
       "      <td>21.0</td>\n",
       "      <td>NaN</td>\n",
       "      <td>NaN</td>\n",
       "      <td>NaN</td>\n",
       "      <td>NaN</td>\n",
       "      <td>NaN</td>\n",
       "    </tr>\n",
       "    <tr>\n",
       "      <th>1</th>\n",
       "      <td>49.274566</td>\n",
       "      <td>-123.121817</td>\n",
       "      <td>4.0</td>\n",
       "      <td>NaN</td>\n",
       "      <td>NaN</td>\n",
       "      <td>NaN</td>\n",
       "      <td>NaN</td>\n",
       "      <td>NaN</td>\n",
       "    </tr>\n",
       "    <tr>\n",
       "      <th>2</th>\n",
       "      <td>49.279764</td>\n",
       "      <td>-123.110154</td>\n",
       "      <td>5.0</td>\n",
       "      <td>NaN</td>\n",
       "      <td>NaN</td>\n",
       "      <td>NaN</td>\n",
       "      <td>NaN</td>\n",
       "      <td>NaN</td>\n",
       "    </tr>\n",
       "    <tr>\n",
       "      <th>3</th>\n",
       "      <td>49.260599</td>\n",
       "      <td>-123.113504</td>\n",
       "      <td>3.0</td>\n",
       "      <td>NaN</td>\n",
       "      <td>NaN</td>\n",
       "      <td>NaN</td>\n",
       "      <td>NaN</td>\n",
       "      <td>NaN</td>\n",
       "    </tr>\n",
       "    <tr>\n",
       "      <th>4</th>\n",
       "      <td>49.264215</td>\n",
       "      <td>-123.117772</td>\n",
       "      <td>15.0</td>\n",
       "      <td>NaN</td>\n",
       "      <td>NaN</td>\n",
       "      <td>NaN</td>\n",
       "      <td>NaN</td>\n",
       "      <td>NaN</td>\n",
       "    </tr>\n",
       "    <tr>\n",
       "      <th>...</th>\n",
       "      <td>...</td>\n",
       "      <td>...</td>\n",
       "      <td>...</td>\n",
       "      <td>...</td>\n",
       "      <td>...</td>\n",
       "      <td>...</td>\n",
       "      <td>...</td>\n",
       "      <td>...</td>\n",
       "    </tr>\n",
       "    <tr>\n",
       "      <th>252</th>\n",
       "      <td>NaN</td>\n",
       "      <td>NaN</td>\n",
       "      <td>NaN</td>\n",
       "      <td>Vancouver Hackspace</td>\n",
       "      <td>820.0</td>\n",
       "      <td>0.0</td>\n",
       "      <td>1715 Cook St</td>\n",
       "      <td>NaN</td>\n",
       "    </tr>\n",
       "    <tr>\n",
       "      <th>253</th>\n",
       "      <td>NaN</td>\n",
       "      <td>NaN</td>\n",
       "      <td>NaN</td>\n",
       "      <td>Mahony &amp; Sons</td>\n",
       "      <td>811.0</td>\n",
       "      <td>0.0</td>\n",
       "      <td>610 Stamp's Landng</td>\n",
       "      <td>NaN</td>\n",
       "    </tr>\n",
       "    <tr>\n",
       "      <th>254</th>\n",
       "      <td>49.263173</td>\n",
       "      <td>-123.105946</td>\n",
       "      <td>NaN</td>\n",
       "      <td>Bike Repair Centre</td>\n",
       "      <td>NaN</td>\n",
       "      <td>NaN</td>\n",
       "      <td>NaN</td>\n",
       "      <td>5.0</td>\n",
       "    </tr>\n",
       "    <tr>\n",
       "      <th>255</th>\n",
       "      <td>49.263217</td>\n",
       "      <td>-123.101212</td>\n",
       "      <td>NaN</td>\n",
       "      <td>Our Community Bikes</td>\n",
       "      <td>NaN</td>\n",
       "      <td>NaN</td>\n",
       "      <td>NaN</td>\n",
       "      <td>4.0</td>\n",
       "    </tr>\n",
       "    <tr>\n",
       "      <th>256</th>\n",
       "      <td>49.260380</td>\n",
       "      <td>-123.113358</td>\n",
       "      <td>NaN</td>\n",
       "      <td>Mobi by Shaw Go</td>\n",
       "      <td>NaN</td>\n",
       "      <td>NaN</td>\n",
       "      <td>NaN</td>\n",
       "      <td>1.5</td>\n",
       "    </tr>\n",
       "  </tbody>\n",
       "</table>\n",
       "<p>257 rows × 8 columns</p>\n",
       "</div>"
      ],
      "text/plain": [
       "      latitude   longitude  bikes                 name  distance  location  \\\n",
       "0    49.262487 -123.114397   21.0                  NaN       NaN       NaN   \n",
       "1    49.274566 -123.121817    4.0                  NaN       NaN       NaN   \n",
       "2    49.279764 -123.110154    5.0                  NaN       NaN       NaN   \n",
       "3    49.260599 -123.113504    3.0                  NaN       NaN       NaN   \n",
       "4    49.264215 -123.117772   15.0                  NaN       NaN       NaN   \n",
       "..         ...         ...    ...                  ...       ...       ...   \n",
       "252        NaN         NaN    NaN  Vancouver Hackspace     820.0       0.0   \n",
       "253        NaN         NaN    NaN        Mahony & Sons     811.0       0.0   \n",
       "254  49.263173 -123.105946    NaN   Bike Repair Centre       NaN       NaN   \n",
       "255  49.263217 -123.101212    NaN  Our Community Bikes       NaN       NaN   \n",
       "256  49.260380 -123.113358    NaN      Mobi by Shaw Go       NaN       NaN   \n",
       "\n",
       "       location.address  rating  \n",
       "0                   NaN     NaN  \n",
       "1                   NaN     NaN  \n",
       "2                   NaN     NaN  \n",
       "3                   NaN     NaN  \n",
       "4                   NaN     NaN  \n",
       "..                  ...     ...  \n",
       "252        1715 Cook St     NaN  \n",
       "253  610 Stamp's Landng     NaN  \n",
       "254                 NaN     5.0  \n",
       "255                 NaN     4.0  \n",
       "256                 NaN     1.5  \n",
       "\n",
       "[257 rows x 8 columns]"
      ]
     },
     "execution_count": 13,
     "metadata": {},
     "output_type": "execute_result"
    }
   ],
   "source": [
    "df_combine"
   ]
  },
  {
   "cell_type": "code",
   "execution_count": 14,
   "metadata": {},
   "outputs": [
    {
     "name": "stdout",
     "output_type": "stream",
     "text": [
      "<class 'pandas.core.frame.DataFrame'>\n",
      "RangeIndex: 257 entries, 0 to 256\n",
      "Data columns (total 8 columns):\n",
      " #   Column            Non-Null Count  Dtype  \n",
      "---  ------            --------------  -----  \n",
      " 0   latitude          249 non-null    float64\n",
      " 1   longitude         249 non-null    float64\n",
      " 2   bikes             244 non-null    float64\n",
      " 3   name              13 non-null     object \n",
      " 4   distance          10 non-null     float64\n",
      " 5   location          10 non-null     float64\n",
      " 6   location.address  10 non-null     object \n",
      " 7   rating            3 non-null      float64\n",
      "dtypes: float64(6), object(2)\n",
      "memory usage: 16.2+ KB\n"
     ]
    }
   ],
   "source": [
    "## to get infomation on combined data\n",
    "df_combine.info()"
   ]
  },
  {
   "cell_type": "code",
   "execution_count": 21,
   "metadata": {},
   "outputs": [],
   "source": [
    "##to clean df_combine by replacing the NAN's with mean for distnace, location, location.address\n",
    "df_combine['distance'].fillna(df_combine['distance'].mean(), inplace=True)\n",
    "\n",
    "\n",
    "\n"
   ]
  },
  {
   "cell_type": "code",
   "execution_count": 19,
   "metadata": {},
   "outputs": [],
   "source": [
    "df_combine['location'].fillna(df_combine['location'].mean(), inplace=True)"
   ]
  },
  {
   "cell_type": "code",
   "execution_count": 22,
   "metadata": {},
   "outputs": [
    {
     "name": "stdout",
     "output_type": "stream",
     "text": [
      "<class 'pandas.core.frame.DataFrame'>\n",
      "RangeIndex: 257 entries, 0 to 256\n",
      "Data columns (total 8 columns):\n",
      " #   Column            Non-Null Count  Dtype  \n",
      "---  ------            --------------  -----  \n",
      " 0   latitude          249 non-null    float64\n",
      " 1   longitude         249 non-null    float64\n",
      " 2   bikes             244 non-null    float64\n",
      " 3   name              13 non-null     object \n",
      " 4   distance          257 non-null    float64\n",
      " 5   location          257 non-null    float64\n",
      " 6   location.address  10 non-null     object \n",
      " 7   rating            3 non-null      float64\n",
      "dtypes: float64(6), object(2)\n",
      "memory usage: 16.2+ KB\n"
     ]
    }
   ],
   "source": [
    "df_combine.info()"
   ]
  },
  {
   "cell_type": "code",
   "execution_count": 24,
   "metadata": {},
   "outputs": [
    {
     "data": {
      "text/plain": [
       "(257, 8)"
      ]
     },
     "execution_count": 24,
     "metadata": {},
     "output_type": "execute_result"
    }
   ],
   "source": [
    "## to check for duplicates\n",
    "df_combine.shape"
   ]
  },
  {
   "cell_type": "code",
   "execution_count": 25,
   "metadata": {},
   "outputs": [
    {
     "name": "stdout",
     "output_type": "stream",
     "text": [
      "number of duplicate rows:  (0, 8)\n"
     ]
    }
   ],
   "source": [
    "duplicate_rows_df_combine = df_combine[df_combine.duplicated()]\n",
    "print(\"number of duplicate rows: \", duplicate_rows_df_combine.shape)"
   ]
  },
  {
   "cell_type": "markdown",
   "metadata": {},
   "source": [
    "## the above output indicates there are no duplicates on table"
   ]
  },
  {
   "cell_type": "markdown",
   "metadata": {},
   "source": [
    "Provide a visualization that you used as part of your EDA process. Explain the initial pattern or relationship you discoved through this visualization. "
   ]
  },
  {
   "cell_type": "markdown",
   "metadata": {},
   "source": [
    "# to build a histogram to build dataset"
   ]
  },
  {
   "cell_type": "code",
   "execution_count": 26,
   "metadata": {},
   "outputs": [
    {
     "data": {
      "image/png": "[encoded data removed]",
      "text/plain": [
       "<Figure size 640x480 with 1 Axes>"
      ]
     },
     "metadata": {},
     "output_type": "display_data"
    }
   ],
   "source": [
    "\n",
    "import matplotlib.pyplot as plt\n",
    "\n",
    "# Create Figure and Axes objects with which to do your plotting\n",
    "fig, ax = plt.subplots()\n",
    "\n",
    "# Plot the data using one of Matplotlib's plotting functions\n",
    "ax.hist(df_combine['bikes'])\n",
    "\n",
    "# Customize other aspects of the plot\n",
    "ax.set_title('Histogram of bikes')\n",
    "ax.set_xlabel('bikes')\n",
    "ax.set_ylabel('Counts')\n",
    "\n",
    "# Display the plot\n",
    "plt.show()"
   ]
  },
  {
   "cell_type": "code",
   "execution_count": 27,
   "metadata": {},
   "outputs": [
    {
     "data": {
      "image/png": "[encoded data removed]",
      "text/plain": [
       "<Figure size 640x480 with 1 Axes>"
      ]
     },
     "metadata": {},
     "output_type": "display_data"
    }
   ],
   "source": [
    "\n",
    "import matplotlib.pyplot as plt\n",
    "\n",
    "# Create Figure and Axes objects with which to do your plotting\n",
    "fig, ax = plt.subplots()\n",
    "\n",
    "# Plot the data using one of Matplotlib's plotting functions\n",
    "ax.hist(df_combine['longitude'])\n",
    "\n",
    "# Customize other aspects of the plot\n",
    "ax.set_title('Histogram of longitude')\n",
    "ax.set_xlabel('longitude')\n",
    "ax.set_ylabel('Counts')\n",
    "\n",
    "# Display the plot\n",
    "plt.show()"
   ]
  },
  {
   "cell_type": "code",
   "execution_count": 28,
   "metadata": {},
   "outputs": [
    {
     "data": {
      "image/png": "[encoded data removed]",
      "text/plain": [
       "<Figure size 640x480 with 1 Axes>"
      ]
     },
     "metadata": {},
     "output_type": "display_data"
    }
   ],
   "source": [
    "\n",
    "import matplotlib.pyplot as plt\n",
    "\n",
    "# Create Figure and Axes objects with which to do your plotting\n",
    "fig, ax = plt.subplots()\n",
    "\n",
    "# Plot the data using one of Matplotlib's plotting functions\n",
    "ax.hist(df_combine['latitude'])\n",
    "\n",
    "# Customize other aspects of the plot\n",
    "ax.set_title('Histogram of latitude')\n",
    "ax.set_xlabel('latitude')\n",
    "ax.set_ylabel('Counts')\n",
    "\n",
    "# Display the plot\n",
    "plt.show()"
   ]
  },
  {
   "cell_type": "code",
   "execution_count": 29,
   "metadata": {},
   "outputs": [
    {
     "data": {
      "image/png": "[encoded data removed]",
      "text/plain": [
       "<Figure size 1400x1000 with 4 Axes>"
      ]
     },
     "metadata": {},
     "output_type": "display_data"
    }
   ],
   "source": [
    "fig, axes = plt.subplots(nrows = 2, \n",
    "                         ncols = 2, \n",
    "                         figsize=(14, 10)        # units up to debate?\n",
    "                        )\n",
    "\n",
    "##Plot 0,0\n",
    "axes[0,0].hist(df_combine['latitude'])\n",
    "axes[0,0].set_title('Histogram of latitude')\n",
    "axes[0,0].set_xlabel('latitude')\n",
    "axes[0,0].set_ylabel('Counts')\n",
    "\n",
    "##Plot 0,1\n",
    "axes[0,1].hist(df_combine['location'], color='green')\n",
    "axes[0,1].set_title('Histogram of location')\n",
    "axes[0,1].set_xlabel('location')\n",
    "axes[0,1].set_ylabel('Counts')\n",
    "axes[0,1].set_xlim(left=0)\n",
    "#axes[0,1].set_xlim(right=0)\n",
    "\n",
    "##Plot 1,0\n",
    "axes[1,0].hist(df_combine['bikes'])\n",
    "axes[1,0].set_title('Histogram of bikes')\n",
    "axes[1,0].set_xlabel('bikes')\n",
    "axes[1,0].set_ylabel('Counts')\n",
    "\n",
    "##Plot 1,1\n",
    "axes[1,1].hist(df_combine['distance'], bins=10, color='green')\n",
    "axes[1,1].set_title('Histogram of distance')\n",
    "axes[1,1].set_xlabel('distance')\n",
    "axes[1,1].set_ylabel('Counts')\n",
    "axes[1,1].set_xlim(left=0)\n",
    "\n",
    "plt.show()"
   ]
  },
  {
   "cell_type": "code",
   "execution_count": 30,
   "metadata": {},
   "outputs": [
    {
     "data": {
      "image/png": "[encoded data removed]",
      "text/plain": [
       "<Figure size 2000x2000 with 8 Axes>"
      ]
     },
     "metadata": {},
     "output_type": "display_data"
    }
   ],
   "source": [
    "## to create multiple histograms representing each columns\n",
    "def draw_histograms(dataframe, features, rows, cols):\n",
    "    fig=plt.figure(figsize=(20,20))\n",
    "    for i, feature in enumerate(features):\n",
    "        ax=fig.add_subplot(rows,cols,i+1)\n",
    "        dataframe[feature].hist(bins=20,ax=ax,facecolor='midnightblue')\n",
    "        ax.set_title(feature+\" Distribution\",color='DarkRed')\n",
    "        ax.set_yscale('log')\n",
    "    fig.tight_layout()\n",
    "    plt.show()\n",
    "draw_histograms(df_combine,df_combine.columns,8,4)"
   ]
  },
  {
   "cell_type": "code",
   "execution_count": 31,
   "metadata": {},
   "outputs": [],
   "source": [
    "import seaborn as sns"
   ]
  },
  {
   "cell_type": "code",
   "execution_count": 19,
   "metadata": {},
   "outputs": [
    {
     "name": "stderr",
     "output_type": "stream",
     "text": [
      "C:\\Users\\Alex\\AppData\\Local\\Temp\\ipykernel_8920\\728959383.py:2: FutureWarning: The default value of numeric_only in DataFrame.corr is deprecated. In a future version, it will default to False. Select only valid columns or specify the value of numeric_only to silence this warning.\n",
      "  sns.heatmap(df_combine.corr(),annot=True)\n"
     ]
    },
    {
     "data": {
      "text/plain": [
       "<Axes: >"
      ]
     },
     "execution_count": 19,
     "metadata": {},
     "output_type": "execute_result"
    },
    {
     "data": {
      "image/png": "[encoded data removed]",
      "text/plain": [
       "<Figure size 640x480 with 2 Axes>"
      ]
     },
     "metadata": {},
     "output_type": "display_data"
    }
   ],
   "source": [
    "##exploring data using heatmap\n",
    "sns.heatmap(df_combine.corr(),annot=True)"
   ]
  },
  {
   "cell_type": "markdown",
   "metadata": {},
   "source": [
    "From the heatmap, bikes is correlated with latitude and longitude. There is positive correlation between bikes and latitude, and negative correlation between bikes and longitude.Therefore there is little linear correlation between bikes and other variables."
   ]
  },
  {
   "cell_type": "markdown",
   "metadata": {},
   "source": [
    "# Database"
   ]
  },
  {
   "cell_type": "markdown",
   "metadata": {},
   "source": [
    "Put all your results in an SQLite3 database (remember, SQLite stores its databases as files in your local machine - make sure to create your database in your project's data/ directory!)"
   ]
  },
  {
   "cell_type": "code",
   "execution_count": 34,
   "metadata": {},
   "outputs": [
    {
     "ename": "NameError",
     "evalue": "name 'combined_df' is not defined",
     "output_type": "error",
     "traceback": [
      "\u001b[1;31m---------------------------------------------------------------------------\u001b[0m",
      "\u001b[1;31mNameError\u001b[0m                                 Traceback (most recent call last)",
      "Cell \u001b[1;32mIn[34], line 9\u001b[0m\n\u001b[0;32m      6\u001b[0m \u001b[39m# cursor.execute(\"CREATE TABLE citybikes(name, bikes, rating, latitude_x, longitude_x, latitude_y, longitude_y)\")\u001b[39;00m\n\u001b[0;32m      8\u001b[0m data \u001b[39m=\u001b[39m []\n\u001b[1;32m----> 9\u001b[0m \u001b[39mfor\u001b[39;00m _, row \u001b[39min\u001b[39;00m combined_df\u001b[39m.\u001b[39miterrows():\n\u001b[0;32m     10\u001b[0m     data\u001b[39m.\u001b[39mappend((\n\u001b[0;32m     11\u001b[0m         row[\u001b[39m'\u001b[39m\u001b[39mname\u001b[39m\u001b[39m'\u001b[39m],\n\u001b[0;32m     12\u001b[0m         row[\u001b[39m'\u001b[39m\u001b[39mbikes\u001b[39m\u001b[39m'\u001b[39m],\n\u001b[1;32m   (...)\u001b[0m\n\u001b[0;32m     17\u001b[0m         row[\u001b[39m'\u001b[39m\u001b[39mlongitude_y\u001b[39m\u001b[39m'\u001b[39m]\n\u001b[0;32m     18\u001b[0m     ))\n\u001b[0;32m     20\u001b[0m cursor\u001b[39m.\u001b[39mexecutemany(\u001b[39m\"\u001b[39m\u001b[39mINSERT INTO citybikes VALUES(?, ?, ?, ?, ?, ?, ?)\u001b[39m\u001b[39m\"\u001b[39m, data)\n",
      "\u001b[1;31mNameError\u001b[0m: name 'combined_df' is not defined"
     ]
    }
   ],
   "source": [
    "import sqlite3\n",
    "\n",
    "conn = sqlite3.connect('../data/data.db')\n",
    "cursor = conn.cursor()\n",
    "\n",
    "# cursor.execute(\"CREATE TABLE citybikes(name, bikes, rating, latitude_x, longitude_x, latitude_y, longitude_y)\")\n",
    "\n",
    "data = []\n",
    "for _, row in combined_df.iterrows():\n",
    "    data.append((\n",
    "        row['name'],\n",
    "        row['bikes'],\n",
    "        row['rating'],\n",
    "        row['latitude_x'],\n",
    "        row['longitude_x'],\n",
    "        row['latitude_y'],\n",
    "        row['longitude_y']\n",
    "    ))\n",
    "\n",
    "cursor.executemany(\"INSERT INTO citybikes VALUES(?, ?, ?, ?, ?, ?, ?)\", data)\n",
    "conn.commit()\n",
    "\n",
    "# see if data is in there\n",
    "result = cursor.execute(\"SELECT * FROM citybikes\")\n",
    "print(result.fetchone())"
   ]
  },
  {
   "cell_type": "markdown",
   "metadata": {},
   "source": [
    "Look at the data before and after the join to validate your data."
   ]
  },
  {
   "cell_type": "markdown",
   "metadata": {},
   "source": [
    "## the dataframe is consistent with the dataframe after, nothing lost."
   ]
  }
 ],
 "metadata": {
  "kernelspec": {
   "display_name": "Python 3",
   "language": "python",
   "name": "python3"
  },
  "language_info": {
   "codemirror_mode": {
    "name": "ipython",
    "version": 3
   },
   "file_extension": ".py",
   "mimetype": "text/x-python",
   "name": "python",
   "nbconvert_exporter": "python",
   "pygments_lexer": "ipython3",
   "version": "3.11.3"
  }
 },
 "nbformat": 4,
 "nbformat_minor": 4
}
