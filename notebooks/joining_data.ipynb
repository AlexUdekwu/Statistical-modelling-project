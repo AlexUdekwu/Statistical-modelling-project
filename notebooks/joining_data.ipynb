{
 "cells": [
  {
   "cell_type": "markdown",
   "metadata": {},
   "source": [
    "Join the data from Part 1 with the data from Part 2 to create a new dataframe."
   ]
  },
  {
   "cell_type": "code",
   "execution_count": 1,
   "metadata": {},
   "outputs": [],
   "source": [
    "import pandas as pd\n",
    "\n",
    "combined_df = pd.read_csv(\"bike_and_yelp_df.csv\")"
   ]
  },
  {
   "cell_type": "markdown",
   "metadata": {},
   "source": [
    "Provide a visualization that you used as part of your EDA process. Explain the initial pattern or relationship you discoved through this visualization. "
   ]
  },
  {
   "cell_type": "code",
   "execution_count": null,
   "metadata": {},
   "outputs": [],
   "source": []
  },
  {
   "cell_type": "markdown",
   "metadata": {},
   "source": [
    "# Database"
   ]
  },
  {
   "cell_type": "markdown",
   "metadata": {},
   "source": [
    "Put all your results in an SQLite3 database (remember, SQLite stores its databases as files in your local machine - make sure to create your database in your project's data/ directory!)"
   ]
  },
  {
   "cell_type": "code",
   "execution_count": 44,
   "metadata": {},
   "outputs": [
    {
     "name": "stdout",
     "output_type": "stream",
     "text": [
      "('Bike Repair Centre', 35, 5.0, 49.262487, -123.114397, 49.2631728, -123.1059464)\n"
     ]
    }
   ],
   "source": [
    "import sqlite3\n",
    "\n",
    "conn = sqlite3.connect('../data/data.db')\n",
    "cursor = conn.cursor()\n",
    "\n",
    "# cursor.execute(\"CREATE TABLE citybikes(name, bikes, rating, latitude_x, longitude_x, latitude_y, longitude_y)\")\n",
    "\n",
    "data = []\n",
    "for _, row in combined_df.iterrows():\n",
    "    data.append((\n",
    "        row['name'],\n",
    "        row['bikes'],\n",
    "        row['rating'],\n",
    "        row['latitude_x'],\n",
    "        row['longitude_x'],\n",
    "        row['latitude_y'],\n",
    "        row['longitude_y']\n",
    "    ))\n",
    "\n",
    "cursor.executemany(\"INSERT INTO citybikes VALUES(?, ?, ?, ?, ?, ?, ?)\", data)\n",
    "conn.commit()\n",
    "\n",
    "# see if data is in there\n",
    "result = cursor.execute(\"SELECT * FROM citybikes\")\n",
    "print(result.fetchone())"
   ]
  },
  {
   "cell_type": "markdown",
   "metadata": {},
   "source": [
    "Look at the data before and after the join to validate your data."
   ]
  },
  {
   "cell_type": "code",
   "execution_count": null,
   "metadata": {},
   "outputs": [],
   "source": []
  }
 ],
 "metadata": {
  "kernelspec": {
   "display_name": "Python 3",
   "language": "python",
   "name": "python3"
  },
  "language_info": {
   "codemirror_mode": {
    "name": "ipython",
    "version": 3
   },
   "file_extension": ".py",
   "mimetype": "text/x-python",
   "name": "python",
   "nbconvert_exporter": "python",
   "pygments_lexer": "ipython3",
   "version": "3.10.11"
  }
 },
 "nbformat": 4,
 "nbformat_minor": 4
}
