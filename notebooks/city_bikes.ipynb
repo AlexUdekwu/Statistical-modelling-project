{
 "cells": [
  {
   "cell_type": "markdown",
   "metadata": {},
   "source": [
    "# CityBikes"
   ]
  },
  {
   "cell_type": "markdown",
   "metadata": {},
   "source": [
    "Send a request to CityBikes for the city of your choice. "
   ]
  },
  {
   "cell_type": "code",
   "execution_count": 4,
   "metadata": {},
   "outputs": [],
   "source": [
    "import requests\n",
    "\n",
    "network_resp = requests.get('http://api.citybik.es/v2/networks')\n",
    "all_networks_data = network_resp.json()\n",
    "\n",
    "city_networks_data = {}\n",
    "for network in all_networks_data['networks']:\n",
    "    if network['location']['city'].lower() == 'vancouver':\n",
    "        city_networks_resp = requests.get('http://api.citybik.es/v2/networks/' + network['id'])\n",
    "        city_networks_data = city_networks_resp.json()\n"
   ]
  },
  {
   "cell_type": "markdown",
   "metadata": {},
   "source": [
    "Parse through the response to get the details you want for the bike stations in that city (latitude, longitude, number of bikes). "
   ]
  },
  {
   "cell_type": "code",
   "execution_count": 5,
   "metadata": {},
   "outputs": [],
   "source": [
    "stations = []\n",
    "city_stations = city_networks_data['network']['stations']\n",
    "for station in city_stations:\n",
    "    stations.append({\n",
    "        'latitude': station['latitude'],\n",
    "        'longitude': station['longitude'],\n",
    "        'bikes': station['free_bikes']\n",
    "    })"
   ]
  },
  {
   "cell_type": "markdown",
   "metadata": {},
   "source": [
    "Put your parsed results into a DataFrame."
   ]
  },
  {
   "cell_type": "code",
   "execution_count": 9,
   "metadata": {},
   "outputs": [
    {
     "name": "stdout",
     "output_type": "stream",
     "text": [
      "      latitude   longitude  bikes\n",
      "0    49.262487 -123.114397      5\n",
      "1    49.274566 -123.121817      9\n",
      "2    49.279764 -123.110154     11\n",
      "3    49.260599 -123.113504      5\n",
      "4    49.264215 -123.117772      7\n",
      "..         ...         ...    ...\n",
      "240  49.285670 -123.112543     15\n",
      "241  49.250940 -123.101306      6\n",
      "242  49.280977 -123.035969      5\n",
      "243  49.270783 -123.141564      8\n",
      "244   0.000000    0.000000      0\n",
      "\n",
      "[245 rows x 3 columns]\n"
     ]
    }
   ],
   "source": [
    "import pandas as pd\n",
    "\n",
    "df = pd.DataFrame(stations)\n",
    "\n",
    "print(df)\n"
   ]
  }
 ],
 "metadata": {
  "kernelspec": {
   "display_name": "Python 3",
   "language": "python",
   "name": "python3"
  },
  "language_info": {
   "codemirror_mode": {
    "name": "ipython",
    "version": 3
   },
   "file_extension": ".py",
   "mimetype": "text/x-python",
   "name": "python",
   "nbconvert_exporter": "python",
   "pygments_lexer": "ipython3",
   "version": "3.10.11"
  }
 },
 "nbformat": 4,
 "nbformat_minor": 4
}
